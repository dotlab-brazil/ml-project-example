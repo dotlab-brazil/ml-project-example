{
 "cells": [
  {
   "cell_type": "markdown",
   "metadata": {},
   "source": [
    "# Data analysis"
   ]
  },
  {
   "cell_type": "markdown",
   "metadata": {},
   "source": [
    "Loading `.env` (environment variables) and loading `lib` module to path:"
   ]
  },
  {
   "cell_type": "code",
   "execution_count": null,
   "metadata": {},
   "outputs": [],
   "source": [
    "import os\n",
    "import sys\n",
    "from dotenv import load_dotenv\n",
    "\n",
    "load_dotenv()\n",
    "print('ENV variables loaded successfully!')\n",
    "\n",
    "module_path = os.path.abspath(os.path.join('..'))\n",
    "if module_path not in sys.path:\n",
    "    sys.path.append(module_path)\n",
    "    print('Added lib module to path successfully!')"
   ]
  },
  {
   "cell_type": "markdown",
   "metadata": {},
   "source": [
    "Loading initial database for analysis:"
   ]
  },
  {
   "cell_type": "code",
   "execution_count": null,
   "metadata": {},
   "outputs": [],
   "source": [
    "import pandas as pd\n",
    "import numpy as np\n",
    "import matplotlib.pyplot as plt\n",
    "import seaborn as sns\n",
    "\n",
    "from lib.util import Util\n",
    "from lib.env_var_keys import EnvVarKeys\n",
    "\n",
    "# Get the initial database path\n",
    "initial_database_path = os.getenv(EnvVarKeys.INITIAL_DATABASE_FOR_ANALYSIS_PATH_KEY.value)\n",
    "\n",
    "print(f'Loading initial database from: {initial_database_path}')\n",
    "\n",
    "# Load the initial database\n",
    "df = pd.read_csv(initial_database_path, sep=',')\n",
    "\n",
    "print(f'Initial database loaded successfully!')\n",
    "print(f'Initial database shape: {df.shape}')"
   ]
  }
 ],
 "metadata": {
  "language_info": {
   "name": "python"
  },
  "orig_nbformat": 4
 },
 "nbformat": 4,
 "nbformat_minor": 2
}
